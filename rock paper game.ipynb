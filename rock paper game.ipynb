{
 "cells": [
  {
   "cell_type": "code",
   "execution_count": 1,
   "id": "b60d2f80",
   "metadata": {},
   "outputs": [],
   "source": [
    "import random"
   ]
  },
  {
   "cell_type": "code",
   "execution_count": 2,
   "id": "abf8a868",
   "metadata": {},
   "outputs": [],
   "source": [
    "# Define a list of options for the game\n",
    "options = ['rock', 'paper', 'scissors']\n"
   ]
  },
  {
   "cell_type": "code",
   "execution_count": 4,
   "id": "9c4c9d6a",
   "metadata": {},
   "outputs": [
    {
     "name": "stdout",
     "output_type": "stream",
     "text": [
      "Choose rock, paper, or scissors: paper\n",
      "You chose paper.\n",
      "The computer chose paper.\n",
      "The game is a tie!\n"
     ]
    }
   ],
   "source": [
    "# Define a function that runs the game\n",
    "def play_game():\n",
    "    # Prompt the user to choose an option\n",
    "    user_choice = input('Choose rock, paper, or scissors: ').lower()\n",
    "    # Generate a random option for the computer\n",
    "    computer_choice = random.choice(options)\n",
    "    # Print the user's and computer's choices\n",
    "    print(f'You chose {user_choice}.')\n",
    "    print(f'The computer chose {computer_choice}.')\n",
    "    # Determine the winner of the game\n",
    "    if user_choice == computer_choice:\n",
    "        print('The game is a tie!')\n",
    "    elif user_choice == 'rock' and computer_choice == 'scissors':\n",
    "        print('You win!')\n",
    "    elif user_choice == 'paper' and computer_choice == 'rock':\n",
    "        print('You win!')\n",
    "    elif user_choice == 'scissors' and computer_choice == 'paper':\n",
    "        print('You win!')\n",
    "    else:\n",
    "        print('The computer wins!')\n",
    "\n",
    "# Run the game\n",
    "play_game()\n"
   ]
  },
  {
   "cell_type": "code",
   "execution_count": null,
   "id": "8dfaf06d",
   "metadata": {},
   "outputs": [],
   "source": []
  }
 ],
 "metadata": {
  "kernelspec": {
   "display_name": "Python 3 (ipykernel)",
   "language": "python",
   "name": "python3"
  },
  "language_info": {
   "codemirror_mode": {
    "name": "ipython",
    "version": 3
   },
   "file_extension": ".py",
   "mimetype": "text/x-python",
   "name": "python",
   "nbconvert_exporter": "python",
   "pygments_lexer": "ipython3",
   "version": "3.11.3"
  }
 },
 "nbformat": 4,
 "nbformat_minor": 5
}
